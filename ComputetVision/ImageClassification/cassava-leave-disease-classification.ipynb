{
 "cells": [
  {
   "cell_type": "markdown",
   "metadata": {
    "papermill": {
     "duration": 0.02479,
     "end_time": "2020-11-21T13:58:34.952174",
     "exception": false,
     "start_time": "2020-11-21T13:58:34.927384",
     "status": "completed"
    },
    "tags": []
   },
   "source": [
    "Inspired from this notebook https://www.kaggle.com/jessemostipak/getting-started-tpus-cassava-leaf-disease"
   ]
  },
  {
   "cell_type": "code",
   "execution_count": 1,
   "metadata": {
    "execution": {
     "iopub.execute_input": "2020-11-21T13:58:35.014282Z",
     "iopub.status.busy": "2020-11-21T13:58:35.013446Z",
     "iopub.status.idle": "2020-11-21T13:58:42.105875Z",
     "shell.execute_reply": "2020-11-21T13:58:42.104953Z"
    },
    "papermill": {
     "duration": 7.124594,
     "end_time": "2020-11-21T13:58:42.106038",
     "exception": false,
     "start_time": "2020-11-21T13:58:34.981444",
     "status": "completed"
    },
    "tags": []
   },
   "outputs": [],
   "source": [
    "import tensorflow as tf\n",
    "import cv2\n",
    "import pathlib\n",
    "import numpy as np # linear algebra\n",
    "import pandas as pd \n",
    "import os\n",
    "from sklearn.model_selection import train_test_split\n",
    "from functools import partial\n",
    "import re"
   ]
  },
  {
   "cell_type": "code",
   "execution_count": 2,
   "metadata": {
    "execution": {
     "iopub.execute_input": "2020-11-21T13:58:42.200348Z",
     "iopub.status.busy": "2020-11-21T13:58:42.166436Z",
     "iopub.status.idle": "2020-11-21T13:58:46.320813Z",
     "shell.execute_reply": "2020-11-21T13:58:46.320081Z"
    },
    "papermill": {
     "duration": 4.191456,
     "end_time": "2020-11-21T13:58:46.320968",
     "exception": false,
     "start_time": "2020-11-21T13:58:42.129512",
     "status": "completed"
    },
    "tags": []
   },
   "outputs": [
    {
     "name": "stdout",
     "output_type": "stream",
     "text": [
      "Device: grpc://10.0.0.2:8470\n",
      "8\n"
     ]
    }
   ],
   "source": [
    "try:\n",
    "    tpu=tf.distribute.cluster_resolver.TPUClusterResolver()\n",
    "    print('Device:', tpu.master())\n",
    "    tf.config.experimental_connect_to_cluster(tpu)\n",
    "    tf.tpu.experimental.initialize_tpu_system(tpu)\n",
    "    strategy=tf.distribute.experimental.TPUStrategy(tpu)\n",
    "except:\n",
    "    strategy=tf.distribute.get_strategy()\n",
    "print(strategy.num_replicas_in_sync)\n",
    "    \n"
   ]
  },
  {
   "cell_type": "code",
   "execution_count": 3,
   "metadata": {
    "_cell_guid": "79c7e3d0-c299-4dcb-8224-4455121ee9b0",
    "_uuid": "d629ff2d2480ee46fbb7e2d37f6b5fab8052498a",
    "execution": {
     "iopub.execute_input": "2020-11-21T13:58:46.380161Z",
     "iopub.status.busy": "2020-11-21T13:58:46.378926Z",
     "iopub.status.idle": "2020-11-21T13:58:46.382965Z",
     "shell.execute_reply": "2020-11-21T13:58:46.382050Z"
    },
    "papermill": {
     "duration": 0.034349,
     "end_time": "2020-11-21T13:58:46.383115",
     "exception": false,
     "start_time": "2020-11-21T13:58:46.348766",
     "status": "completed"
    },
    "tags": []
   },
   "outputs": [],
   "source": [
    "base_dir='/kaggle/input/cassava-leaf-disease-classification'"
   ]
  },
  {
   "cell_type": "code",
   "execution_count": 4,
   "metadata": {
    "execution": {
     "iopub.execute_input": "2020-11-21T13:58:46.443038Z",
     "iopub.status.busy": "2020-11-21T13:58:46.441863Z",
     "iopub.status.idle": "2020-11-21T13:58:46.450415Z",
     "shell.execute_reply": "2020-11-21T13:58:46.449612Z"
    },
    "papermill": {
     "duration": 0.041331,
     "end_time": "2020-11-21T13:58:46.450550",
     "exception": false,
     "start_time": "2020-11-21T13:58:46.409219",
     "status": "completed"
    },
    "tags": []
   },
   "outputs": [
    {
     "data": {
      "text/plain": [
       "['train_tfrecords',\n",
       " 'train.csv',\n",
       " 'train_images',\n",
       " 'test_tfrecords',\n",
       " 'test_images',\n",
       " 'label_num_to_disease_map.json',\n",
       " 'sample_submission.csv']"
      ]
     },
     "execution_count": 4,
     "metadata": {},
     "output_type": "execute_result"
    }
   ],
   "source": [
    "os.listdir(base_dir)"
   ]
  },
  {
   "cell_type": "code",
   "execution_count": 5,
   "metadata": {
    "execution": {
     "iopub.execute_input": "2020-11-21T13:58:46.521047Z",
     "iopub.status.busy": "2020-11-21T13:58:46.520129Z",
     "iopub.status.idle": "2020-11-21T13:58:46.823956Z",
     "shell.execute_reply": "2020-11-21T13:58:46.823278Z"
    },
    "papermill": {
     "duration": 0.348202,
     "end_time": "2020-11-21T13:58:46.824083",
     "exception": false,
     "start_time": "2020-11-21T13:58:46.475881",
     "status": "completed"
    },
    "tags": []
   },
   "outputs": [],
   "source": [
    "from kaggle_secrets import UserSecretsClient\n",
    "user_secrets = UserSecretsClient()\n",
    "user_credential = user_secrets.get_gcloud_credential()\n",
    "user_secrets.set_tensorflow_credential(user_credential)"
   ]
  },
  {
   "cell_type": "code",
   "execution_count": 6,
   "metadata": {
    "execution": {
     "iopub.execute_input": "2020-11-21T13:58:46.880597Z",
     "iopub.status.busy": "2020-11-21T13:58:46.879786Z",
     "iopub.status.idle": "2020-11-21T13:58:46.885497Z",
     "shell.execute_reply": "2020-11-21T13:58:46.884693Z"
    },
    "papermill": {
     "duration": 0.035341,
     "end_time": "2020-11-21T13:58:46.885624",
     "exception": false,
     "start_time": "2020-11-21T13:58:46.850283",
     "status": "completed"
    },
    "tags": []
   },
   "outputs": [],
   "source": [
    "from kaggle_datasets import KaggleDatasets"
   ]
  },
  {
   "cell_type": "code",
   "execution_count": 7,
   "metadata": {
    "execution": {
     "iopub.execute_input": "2020-11-21T13:58:46.952439Z",
     "iopub.status.busy": "2020-11-21T13:58:46.951624Z",
     "iopub.status.idle": "2020-11-21T13:58:47.391960Z",
     "shell.execute_reply": "2020-11-21T13:58:47.391111Z"
    },
    "papermill": {
     "duration": 0.480305,
     "end_time": "2020-11-21T13:58:47.392096",
     "exception": false,
     "start_time": "2020-11-21T13:58:46.911791",
     "status": "completed"
    },
    "tags": []
   },
   "outputs": [],
   "source": [
    "AUTOTUNE = tf.data.experimental.AUTOTUNE\n",
    "GCS_PATH = KaggleDatasets().get_gcs_path()\n",
    "BATCH_SIZE = 16 * strategy.num_replicas_in_sync\n",
    "IMG_SIZE = [512, 512]\n",
    "CLASSES = ['0', '1', '2', '3', '4']\n",
    "EPOCHS = 25"
   ]
  },
  {
   "cell_type": "code",
   "execution_count": 8,
   "metadata": {
    "execution": {
     "iopub.execute_input": "2020-11-21T13:58:47.451837Z",
     "iopub.status.busy": "2020-11-21T13:58:47.450743Z",
     "iopub.status.idle": "2020-11-21T13:58:47.454137Z",
     "shell.execute_reply": "2020-11-21T13:58:47.453556Z"
    },
    "papermill": {
     "duration": 0.036253,
     "end_time": "2020-11-21T13:58:47.454280",
     "exception": false,
     "start_time": "2020-11-21T13:58:47.418027",
     "status": "completed"
    },
    "tags": []
   },
   "outputs": [],
   "source": [
    "def decode_image(img):\n",
    "    img = tf.image.decode_jpeg(img, channels=3)\n",
    "    img = tf.cast(img, tf.float32) / 255.0\n",
    "    img = tf.reshape(img, [*IMG_SIZE, 3])\n",
    "    return img"
   ]
  },
  {
   "cell_type": "code",
   "execution_count": 9,
   "metadata": {
    "execution": {
     "iopub.execute_input": "2020-11-21T13:58:48.895205Z",
     "iopub.status.busy": "2020-11-21T13:58:48.894412Z",
     "iopub.status.idle": "2020-11-21T13:58:48.898211Z",
     "shell.execute_reply": "2020-11-21T13:58:48.897567Z"
    },
    "papermill": {
     "duration": 1.413661,
     "end_time": "2020-11-21T13:58:48.898348",
     "exception": false,
     "start_time": "2020-11-21T13:58:47.484687",
     "status": "completed"
    },
    "tags": []
   },
   "outputs": [],
   "source": [
    "tr_files, val_files= train_test_split(tf.io.gfile.glob(GCS_PATH +'/train_tfrecords/ld_train*.tfrec'), test_size=.2, random_state=41)"
   ]
  },
  {
   "cell_type": "code",
   "execution_count": 10,
   "metadata": {
    "execution": {
     "iopub.execute_input": "2020-11-21T13:58:48.962152Z",
     "iopub.status.busy": "2020-11-21T13:58:48.961320Z",
     "iopub.status.idle": "2020-11-21T13:58:48.964866Z",
     "shell.execute_reply": "2020-11-21T13:58:48.964112Z"
    },
    "papermill": {
     "duration": 0.039268,
     "end_time": "2020-11-21T13:58:48.965002",
     "exception": false,
     "start_time": "2020-11-21T13:58:48.925734",
     "status": "completed"
    },
    "tags": []
   },
   "outputs": [],
   "source": [
    "def read_tfdata(example,labeled):\n",
    "    if labeled:\n",
    "        tf_format={'image':tf.io.FixedLenFeature([], tf.string),\n",
    "                  'target':tf.io.FixedLenFeature([], tf.int64)}\n",
    "    else:\n",
    "        tf_format={'image':tf.io.FixedLenFeature([], tf.string)}\n",
    "    example=tf.io.parse_single_example(example, tf_format)  \n",
    "    img=decode_image(example['image'])\n",
    "    if labeled:\n",
    "        lbl=tf.cast(example['target'],tf.int32)\n",
    "        return img, lbl\n",
    "    \n",
    "    return img\n",
    "    "
   ]
  },
  {
   "cell_type": "code",
   "execution_count": 11,
   "metadata": {
    "execution": {
     "iopub.execute_input": "2020-11-21T13:58:49.026503Z",
     "iopub.status.busy": "2020-11-21T13:58:49.025610Z",
     "iopub.status.idle": "2020-11-21T13:58:49.029770Z",
     "shell.execute_reply": "2020-11-21T13:58:49.029162Z"
    },
    "papermill": {
     "duration": 0.038979,
     "end_time": "2020-11-21T13:58:49.029965",
     "exception": false,
     "start_time": "2020-11-21T13:58:48.990986",
     "status": "completed"
    },
    "tags": []
   },
   "outputs": [],
   "source": [
    "def load_dataset(filenames, labeled=True, ordered=False):\n",
    "    ignore_order = tf.data.Options()\n",
    "    if not ordered:\n",
    "        ignore_order.experimental_deterministic = False # disable order, increase speed\n",
    "    dataset = tf.data.TFRecordDataset(filenames, num_parallel_reads=AUTOTUNE) # automatically interleaves reads from multiple files\n",
    "    dataset = dataset.with_options(ignore_order) # uses data as soon as it streams in, rather than in its original order\n",
    "    dataset = dataset.map(partial(read_tfdata, labeled=labeled), num_parallel_calls=AUTOTUNE)\n",
    "    return dataset"
   ]
  },
  {
   "cell_type": "code",
   "execution_count": 12,
   "metadata": {
    "execution": {
     "iopub.execute_input": "2020-11-21T13:58:49.089932Z",
     "iopub.status.busy": "2020-11-21T13:58:49.089105Z",
     "iopub.status.idle": "2020-11-21T13:58:49.092916Z",
     "shell.execute_reply": "2020-11-21T13:58:49.092194Z"
    },
    "papermill": {
     "duration": 0.035591,
     "end_time": "2020-11-21T13:58:49.093048",
     "exception": false,
     "start_time": "2020-11-21T13:58:49.057457",
     "status": "completed"
    },
    "tags": []
   },
   "outputs": [],
   "source": [
    "def data_augment(image, label):\n",
    "    image = tf.image.random_flip_left_right(image)\n",
    "    return image, label"
   ]
  },
  {
   "cell_type": "code",
   "execution_count": 13,
   "metadata": {
    "execution": {
     "iopub.execute_input": "2020-11-21T13:58:49.155736Z",
     "iopub.status.busy": "2020-11-21T13:58:49.154813Z",
     "iopub.status.idle": "2020-11-21T13:58:49.158539Z",
     "shell.execute_reply": "2020-11-21T13:58:49.157760Z"
    },
    "papermill": {
     "duration": 0.038099,
     "end_time": "2020-11-21T13:58:49.158668",
     "exception": false,
     "start_time": "2020-11-21T13:58:49.120569",
     "status": "completed"
    },
    "tags": []
   },
   "outputs": [],
   "source": [
    "def get_training_dataset():\n",
    "    dataset = load_dataset(tr_files, labeled=True)  \n",
    "    dataset = dataset.map(data_augment, num_parallel_calls=AUTOTUNE)  \n",
    "    dataset = dataset.repeat()\n",
    "    dataset = dataset.shuffle(2048)\n",
    "    dataset = dataset.batch(BATCH_SIZE)\n",
    "    dataset = dataset.prefetch(AUTOTUNE)\n",
    "    return dataset"
   ]
  },
  {
   "cell_type": "code",
   "execution_count": 14,
   "metadata": {
    "execution": {
     "iopub.execute_input": "2020-11-21T13:58:49.222069Z",
     "iopub.status.busy": "2020-11-21T13:58:49.219485Z",
     "iopub.status.idle": "2020-11-21T13:58:49.885370Z",
     "shell.execute_reply": "2020-11-21T13:58:49.883435Z"
    },
    "papermill": {
     "duration": 0.700614,
     "end_time": "2020-11-21T13:58:49.885597",
     "exception": false,
     "start_time": "2020-11-21T13:58:49.184983",
     "status": "completed"
    },
    "tags": []
   },
   "outputs": [],
   "source": [
    "tr_ds=get_training_dataset()"
   ]
  },
  {
   "cell_type": "code",
   "execution_count": 15,
   "metadata": {
    "execution": {
     "iopub.execute_input": "2020-11-21T13:58:49.976311Z",
     "iopub.status.busy": "2020-11-21T13:58:49.975261Z",
     "iopub.status.idle": "2020-11-21T13:58:49.978209Z",
     "shell.execute_reply": "2020-11-21T13:58:49.979237Z"
    },
    "papermill": {
     "duration": 0.050748,
     "end_time": "2020-11-21T13:58:49.979461",
     "exception": false,
     "start_time": "2020-11-21T13:58:49.928713",
     "status": "completed"
    },
    "tags": []
   },
   "outputs": [],
   "source": [
    "def get_validation_dataset(ordered=False):\n",
    "    dataset = load_dataset(val_files, labeled=True, ordered=ordered) \n",
    "    dataset = dataset.batch(BATCH_SIZE)\n",
    "    dataset = dataset.cache()\n",
    "    dataset = dataset.prefetch(AUTOTUNE)\n",
    "    return dataset"
   ]
  },
  {
   "cell_type": "code",
   "execution_count": 16,
   "metadata": {
    "execution": {
     "iopub.execute_input": "2020-11-21T13:58:50.048465Z",
     "iopub.status.busy": "2020-11-21T13:58:50.047615Z",
     "iopub.status.idle": "2020-11-21T13:58:50.075142Z",
     "shell.execute_reply": "2020-11-21T13:58:50.074262Z"
    },
    "papermill": {
     "duration": 0.063108,
     "end_time": "2020-11-21T13:58:50.075275",
     "exception": false,
     "start_time": "2020-11-21T13:58:50.012167",
     "status": "completed"
    },
    "tags": []
   },
   "outputs": [],
   "source": [
    "val_ds=get_validation_dataset()"
   ]
  },
  {
   "cell_type": "code",
   "execution_count": 17,
   "metadata": {
    "execution": {
     "iopub.execute_input": "2020-11-21T13:58:50.140958Z",
     "iopub.status.busy": "2020-11-21T13:58:50.139931Z",
     "iopub.status.idle": "2020-11-21T13:58:58.136346Z",
     "shell.execute_reply": "2020-11-21T13:58:58.135620Z"
    },
    "papermill": {
     "duration": 8.033494,
     "end_time": "2020-11-21T13:58:58.136475",
     "exception": false,
     "start_time": "2020-11-21T13:58:50.102981",
     "status": "completed"
    },
    "tags": []
   },
   "outputs": [
    {
     "name": "stdout",
     "output_type": "stream",
     "text": [
      "(128, 512, 512, 3) (128,)\n",
      "(128, 512, 512, 3) (128,)\n",
      "(128, 512, 512, 3) (128,)\n"
     ]
    }
   ],
   "source": [
    "for img, lbl in tr_ds.take(3):\n",
    "    print(img.numpy().shape, lbl.numpy().shape)"
   ]
  },
  {
   "cell_type": "code",
   "execution_count": 18,
   "metadata": {
    "execution": {
     "iopub.execute_input": "2020-11-21T13:58:58.206702Z",
     "iopub.status.busy": "2020-11-21T13:58:58.205848Z",
     "iopub.status.idle": "2020-11-21T13:59:18.476066Z",
     "shell.execute_reply": "2020-11-21T13:59:18.475015Z"
    },
    "papermill": {
     "duration": 20.311289,
     "end_time": "2020-11-21T13:59:18.476267",
     "exception": false,
     "start_time": "2020-11-21T13:58:58.164978",
     "status": "completed"
    },
    "tags": []
   },
   "outputs": [
    {
     "name": "stdout",
     "output_type": "stream",
     "text": [
      "Downloading data from https://storage.googleapis.com/tensorflow/keras-applications/resnet/resnet50_weights_tf_dim_ordering_tf_kernels_notop.h5\n",
      "94773248/94765736 [==============================] - 1s 0us/step\n"
     ]
    }
   ],
   "source": [
    "with strategy.scope():       \n",
    "    img_adjust_layer = tf.keras.layers.Lambda(tf.keras.applications.resnet50.preprocess_input, input_shape=[*IMG_SIZE, 3])\n",
    "    \n",
    "    base_model = tf.keras.applications.ResNet50(weights='imagenet', include_top=False)\n",
    "    base_model.trainable = False\n",
    "    \n",
    "    model = tf.keras.Sequential([\n",
    "        tf.keras.layers.BatchNormalization(renorm=True),\n",
    "        img_adjust_layer,\n",
    "        base_model,\n",
    "        tf.keras.layers.GlobalAveragePooling2D(),\n",
    "        tf.keras.layers.Dense(8, activation='relu'),\n",
    "        #tf.keras.layers.BatchNormalization(renorm=True),\n",
    "        tf.keras.layers.Dense(len(CLASSES), activation='softmax')  \n",
    "    ])\n",
    "    \n",
    "    model.compile(\n",
    "        optimizer=tf.keras.optimizers.Adam(learning_rate=.01, epsilon=0.001),\n",
    "        loss='sparse_categorical_crossentropy',  \n",
    "        metrics=['sparse_categorical_accuracy'])\n",
    "    "
   ]
  },
  {
   "cell_type": "code",
   "execution_count": 19,
   "metadata": {
    "execution": {
     "iopub.execute_input": "2020-11-21T13:59:18.567552Z",
     "iopub.status.busy": "2020-11-21T13:59:18.566724Z",
     "iopub.status.idle": "2020-11-21T13:59:18.571925Z",
     "shell.execute_reply": "2020-11-21T13:59:18.571061Z"
    },
    "papermill": {
     "duration": 0.051283,
     "end_time": "2020-11-21T13:59:18.572065",
     "exception": false,
     "start_time": "2020-11-21T13:59:18.520782",
     "status": "completed"
    },
    "tags": []
   },
   "outputs": [],
   "source": [
    "def count_data_items(filenames):\n",
    "    n = [int(re.compile(r\"-([0-9]*)\\.\").search(filename).group(1)) for filename in filenames]\n",
    "    return np.sum(n)"
   ]
  },
  {
   "cell_type": "code",
   "execution_count": 20,
   "metadata": {
    "execution": {
     "iopub.execute_input": "2020-11-21T13:59:18.657947Z",
     "iopub.status.busy": "2020-11-21T13:59:18.656998Z",
     "iopub.status.idle": "2020-11-21T13:59:18.662069Z",
     "shell.execute_reply": "2020-11-21T13:59:18.660507Z"
    },
    "papermill": {
     "duration": 0.051247,
     "end_time": "2020-11-21T13:59:18.662218",
     "exception": false,
     "start_time": "2020-11-21T13:59:18.610971",
     "status": "completed"
    },
    "tags": []
   },
   "outputs": [
    {
     "name": "stdout",
     "output_type": "stream",
     "text": [
      "16045 5352\n"
     ]
    }
   ],
   "source": [
    "tr_count=count_data_items(tr_files)\n",
    "val_count=count_data_items(val_files)\n",
    "print(tr_count, val_count)"
   ]
  },
  {
   "cell_type": "code",
   "execution_count": 21,
   "metadata": {
    "execution": {
     "iopub.execute_input": "2020-11-21T13:59:18.751962Z",
     "iopub.status.busy": "2020-11-21T13:59:18.748063Z",
     "iopub.status.idle": "2020-11-21T14:16:41.782455Z",
     "shell.execute_reply": "2020-11-21T14:16:41.781606Z"
    },
    "papermill": {
     "duration": 1043.082633,
     "end_time": "2020-11-21T14:16:41.782588",
     "exception": false,
     "start_time": "2020-11-21T13:59:18.699955",
     "status": "completed"
    },
    "tags": []
   },
   "outputs": [
    {
     "name": "stdout",
     "output_type": "stream",
     "text": [
      "Epoch 1/25\n",
      "125/125 [==============================] - 57s 453ms/step - sparse_categorical_accuracy: 0.5844 - loss: 1.2374 - val_sparse_categorical_accuracy: 0.6115 - val_loss: 1.2414\n",
      "Epoch 2/25\n",
      "125/125 [==============================] - 39s 316ms/step - sparse_categorical_accuracy: 0.6154 - loss: 1.1875 - val_sparse_categorical_accuracy: 0.6115 - val_loss: 1.2006\n",
      "Epoch 3/25\n",
      "125/125 [==============================] - 40s 317ms/step - sparse_categorical_accuracy: 0.6171 - loss: 1.1816 - val_sparse_categorical_accuracy: 0.6115 - val_loss: 1.2073\n",
      "Epoch 4/25\n",
      "125/125 [==============================] - 40s 317ms/step - sparse_categorical_accuracy: 0.6161 - loss: 1.1855 - val_sparse_categorical_accuracy: 0.6115 - val_loss: 1.2010\n",
      "Epoch 5/25\n",
      "125/125 [==============================] - 40s 318ms/step - sparse_categorical_accuracy: 0.6164 - loss: 1.1837 - val_sparse_categorical_accuracy: 0.6115 - val_loss: 1.2012\n",
      "Epoch 6/25\n",
      "125/125 [==============================] - 40s 317ms/step - sparse_categorical_accuracy: 0.6160 - loss: 1.1817 - val_sparse_categorical_accuracy: 0.6115 - val_loss: 1.2004\n",
      "Epoch 7/25\n",
      "125/125 [==============================] - 39s 315ms/step - sparse_categorical_accuracy: 0.6174 - loss: 1.1801 - val_sparse_categorical_accuracy: 0.6115 - val_loss: 1.2234\n",
      "Epoch 8/25\n",
      "125/125 [==============================] - 40s 318ms/step - sparse_categorical_accuracy: 0.6161 - loss: 1.1803 - val_sparse_categorical_accuracy: 0.6115 - val_loss: 1.2179\n",
      "Epoch 9/25\n",
      "125/125 [==============================] - 40s 319ms/step - sparse_categorical_accuracy: 0.6161 - loss: 1.1827 - val_sparse_categorical_accuracy: 0.6115 - val_loss: 1.2048\n",
      "Epoch 10/25\n",
      "125/125 [==============================] - 40s 317ms/step - sparse_categorical_accuracy: 0.6164 - loss: 1.1810 - val_sparse_categorical_accuracy: 0.6115 - val_loss: 1.2022\n",
      "Epoch 11/25\n",
      "125/125 [==============================] - 40s 319ms/step - sparse_categorical_accuracy: 0.6178 - loss: 1.1778 - val_sparse_categorical_accuracy: 0.6115 - val_loss: 1.2017\n",
      "Epoch 12/25\n",
      "125/125 [==============================] - 40s 318ms/step - sparse_categorical_accuracy: 0.6137 - loss: 1.1837 - val_sparse_categorical_accuracy: 0.6115 - val_loss: 1.1987\n",
      "Epoch 13/25\n",
      "125/125 [==============================] - 40s 317ms/step - sparse_categorical_accuracy: 0.6184 - loss: 1.1749 - val_sparse_categorical_accuracy: 0.6115 - val_loss: 1.1989\n",
      "Epoch 14/25\n",
      "125/125 [==============================] - 40s 319ms/step - sparse_categorical_accuracy: 0.6165 - loss: 1.1781 - val_sparse_categorical_accuracy: 0.6115 - val_loss: 1.1992\n",
      "Epoch 15/25\n",
      "125/125 [==============================] - 40s 317ms/step - sparse_categorical_accuracy: 0.6140 - loss: 1.1827 - val_sparse_categorical_accuracy: 0.6115 - val_loss: 1.1974\n",
      "Epoch 16/25\n",
      "125/125 [==============================] - 40s 319ms/step - sparse_categorical_accuracy: 0.6183 - loss: 1.1751 - val_sparse_categorical_accuracy: 0.6115 - val_loss: 1.1962\n",
      "Epoch 17/25\n",
      "125/125 [==============================] - 40s 318ms/step - sparse_categorical_accuracy: 0.6162 - loss: 1.1776 - val_sparse_categorical_accuracy: 0.6115 - val_loss: 1.1972\n",
      "Epoch 18/25\n",
      "125/125 [==============================] - 40s 317ms/step - sparse_categorical_accuracy: 0.6161 - loss: 1.1789 - val_sparse_categorical_accuracy: 0.6115 - val_loss: 1.1968\n",
      "Epoch 19/25\n",
      "125/125 [==============================] - 39s 316ms/step - sparse_categorical_accuracy: 0.6160 - loss: 1.1786 - val_sparse_categorical_accuracy: 0.6115 - val_loss: 1.1953\n",
      "Epoch 20/25\n",
      "125/125 [==============================] - 40s 317ms/step - sparse_categorical_accuracy: 0.6172 - loss: 1.1776 - val_sparse_categorical_accuracy: 0.6115 - val_loss: 1.1956\n",
      "Epoch 21/25\n",
      "125/125 [==============================] - 40s 318ms/step - sparse_categorical_accuracy: 0.6168 - loss: 1.1786 - val_sparse_categorical_accuracy: 0.6115 - val_loss: 1.1961\n",
      "Epoch 22/25\n",
      "125/125 [==============================] - 40s 318ms/step - sparse_categorical_accuracy: 0.6154 - loss: 1.1801 - val_sparse_categorical_accuracy: 0.6115 - val_loss: 1.1964\n",
      "Epoch 23/25\n",
      "125/125 [==============================] - 40s 319ms/step - sparse_categorical_accuracy: 0.6164 - loss: 1.1797 - val_sparse_categorical_accuracy: 0.6115 - val_loss: 1.1960\n",
      "Epoch 24/25\n",
      "125/125 [==============================] - 40s 316ms/step - sparse_categorical_accuracy: 0.6171 - loss: 1.1772 - val_sparse_categorical_accuracy: 0.6115 - val_loss: 1.1959\n",
      "Epoch 25/25\n",
      "125/125 [==============================] - 40s 318ms/step - sparse_categorical_accuracy: 0.6139 - loss: 1.1838 - val_sparse_categorical_accuracy: 0.6115 - val_loss: 1.1959\n"
     ]
    }
   ],
   "source": [
    "step_tr=tr_count//BATCH_SIZE\n",
    "step_val=val_count//BATCH_SIZE\n",
    "history=model.fit(tr_ds,steps_per_epoch=step_tr, epochs=EPOCHS, validation_data=val_ds, validation_steps=step_val)"
   ]
  },
  {
   "cell_type": "code",
   "execution_count": 22,
   "metadata": {
    "execution": {
     "iopub.execute_input": "2020-11-21T14:16:44.496246Z",
     "iopub.status.busy": "2020-11-21T14:16:44.495448Z",
     "iopub.status.idle": "2020-11-21T14:16:46.396496Z",
     "shell.execute_reply": "2020-11-21T14:16:46.397640Z"
    },
    "papermill": {
     "duration": 3.234787,
     "end_time": "2020-11-21T14:16:46.397871",
     "exception": false,
     "start_time": "2020-11-21T14:16:43.163084",
     "status": "completed"
    },
    "tags": []
   },
   "outputs": [],
   "source": [
    "model.save('model.h5')\n"
   ]
  },
  {
   "cell_type": "code",
   "execution_count": null,
   "metadata": {
    "papermill": {
     "duration": 1.376003,
     "end_time": "2020-11-21T14:16:49.137132",
     "exception": false,
     "start_time": "2020-11-21T14:16:47.761129",
     "status": "completed"
    },
    "tags": []
   },
   "outputs": [],
   "source": []
  },
  {
   "cell_type": "code",
   "execution_count": null,
   "metadata": {
    "papermill": {
     "duration": 1.317455,
     "end_time": "2020-11-21T14:16:51.786258",
     "exception": false,
     "start_time": "2020-11-21T14:16:50.468803",
     "status": "completed"
    },
    "tags": []
   },
   "outputs": [],
   "source": []
  },
  {
   "cell_type": "code",
   "execution_count": null,
   "metadata": {
    "papermill": {
     "duration": 1.32241,
     "end_time": "2020-11-21T14:16:54.443699",
     "exception": false,
     "start_time": "2020-11-21T14:16:53.121289",
     "status": "completed"
    },
    "tags": []
   },
   "outputs": [],
   "source": []
  },
  {
   "cell_type": "code",
   "execution_count": null,
   "metadata": {
    "papermill": {
     "duration": 1.388818,
     "end_time": "2020-11-21T14:16:57.158603",
     "exception": false,
     "start_time": "2020-11-21T14:16:55.769785",
     "status": "completed"
    },
    "tags": []
   },
   "outputs": [],
   "source": []
  },
  {
   "cell_type": "code",
   "execution_count": null,
   "metadata": {
    "papermill": {
     "duration": 1.334813,
     "end_time": "2020-11-21T14:16:59.856007",
     "exception": false,
     "start_time": "2020-11-21T14:16:58.521194",
     "status": "completed"
    },
    "tags": []
   },
   "outputs": [],
   "source": []
  },
  {
   "cell_type": "code",
   "execution_count": null,
   "metadata": {
    "papermill": {
     "duration": 1.303416,
     "end_time": "2020-11-21T14:17:02.466397",
     "exception": false,
     "start_time": "2020-11-21T14:17:01.162981",
     "status": "completed"
    },
    "tags": []
   },
   "outputs": [],
   "source": []
  },
  {
   "cell_type": "code",
   "execution_count": null,
   "metadata": {
    "papermill": {
     "duration": 1.314451,
     "end_time": "2020-11-21T14:17:05.092260",
     "exception": false,
     "start_time": "2020-11-21T14:17:03.777809",
     "status": "completed"
    },
    "tags": []
   },
   "outputs": [],
   "source": []
  }
 ],
 "metadata": {
  "kernelspec": {
   "display_name": "Python 3",
   "language": "python",
   "name": "python3"
  },
  "language_info": {
   "codemirror_mode": {
    "name": "ipython",
    "version": 3
   },
   "file_extension": ".py",
   "mimetype": "text/x-python",
   "name": "python",
   "nbconvert_exporter": "python",
   "pygments_lexer": "ipython3",
   "version": "3.7.6"
  },
  "papermill": {
   "duration": 1116.643129,
   "end_time": "2020-11-21T14:17:06.546012",
   "environment_variables": {},
   "exception": null,
   "input_path": "__notebook__.ipynb",
   "output_path": "__notebook__.ipynb",
   "parameters": {},
   "start_time": "2020-11-21T13:58:29.902883",
   "version": "2.1.0"
  }
 },
 "nbformat": 4,
 "nbformat_minor": 4
}
