{
 "cells": [
  {
   "cell_type": "code",
   "execution_count": 123,
   "metadata": {
    "collapsed": false
   },
   "outputs": [
    {
     "name": "stdout",
     "output_type": "stream",
     "text": [
      "Feature 0 score: 3.755455\n",
      "Feature 1 score: 6.320552\n",
      "Feature 2 score: 6.778891\n",
      "Feature 3 score: 129.589241\n",
      "Feature 4 score: 27.152184\n",
      "Feature 5 score: 54.268464\n",
      "Accuracy = 0.691715\n",
      "Accuracy = 0.691715\n"
     ]
    },
    {
     "name": "stderr",
     "output_type": "stream",
     "text": [
      "C:\\Users\\Mohua\\Anaconda3\\lib\\site-packages\\sklearn\\linear_model\\logistic.py:469: FutureWarning: Default multi_class will be changed to 'auto' in 0.22. Specify the multi_class option to silence this warning.\n",
      "  \"this warning.\", FutureWarning)\n",
      "C:\\Users\\Mohua\\Anaconda3\\lib\\site-packages\\sklearn\\linear_model\\logistic.py:469: FutureWarning: Default multi_class will be changed to 'auto' in 0.22. Specify the multi_class option to silence this warning.\n",
      "  \"this warning.\", FutureWarning)\n"
     ]
    },
    {
     "data": {
      "image/png": "[encoded data removed]",
      "text/plain": [
       "<Figure size 432x288 with 1 Axes>"
      ]
     },
     "metadata": {},
     "output_type": "display_data"
    }
   ],
   "source": [
    "import numpy as np\n",
    "import pandas as pd\n",
    "from sklearn.model_selection import train_test_split\n",
    "from sklearn.preprocessing import OrdinalEncoder\n",
    "from sklearn.preprocessing import LabelEncoder\n",
    "from sklearn.feature_selection import chi2\n",
    "from sklearn.feature_selection import SelectKBest\n",
    "from sklearn.linear_model import LogisticRegression\n",
    "from sklearn.metrics import accuracy_score\n",
    "def read_data(filepath):\n",
    "    data=pd.read_csv(filepath,header=None)\n",
    "    dataValues=data.values\n",
    "    # Separate into input and output variables\n",
    "    X=dataValues[:,:-1]\n",
    "    y=dataValues[:,-1]\n",
    "    X=X.astype(str)\n",
    "    return X, y\n",
    "\n",
    "\n",
    "# Encode the inputs\n",
    "def encode_features(X_train, X_test):\n",
    "    oe=OrdinalEncoder()\n",
    "    oe.fit(X_train)\n",
    "    X_train_enc=oe.transform(X_train)\n",
    "    X_test_enc=oe.transform(X_test)\n",
    "    return X_train_enc, X_test_enc\n",
    "\n",
    "# Encode the outputs\n",
    "def encode_targets(y_train,y_test):\n",
    "    le=LabelEncoder()\n",
    "    le.fit(y_train)\n",
    "    y_train_enc=le.transform(y_train)\n",
    "    y_test_enc=le.transform(y_test)\n",
    "    return y_train_enc,y_test_enc\n",
    "\n",
    "# Feature selection using chi-square\n",
    "def select_features(func,X_train,y_train,X_test):\n",
    "    fea_sel=SelectKBest(score_func=func, k=6)\n",
    "    fea_sel.fit(X_train,y_train)\n",
    "    X_train_fs=fea_sel.transform(X_train)\n",
    "    X_test_fs=fea_sel.transform(X_test)\n",
    "    return X_train_fs,X_test_fs, fea_sel\n",
    "\n",
    "# Load the dataset\n",
    "data=read_data('Datasets\\Classification\\car.data')\n",
    "\n",
    "# split the data into training and test sets\n",
    "X_train, X_test, y_train,y_test=train_test_split(X,y, test_size=.3, random_state=1)\n",
    "X_train_enc, X_test_enc=encode_features(X_train, X_test)\n",
    "y_train_enc,y_test_enc=encode_targets(y_train,y_test)\n",
    "\n",
    "\n",
    "X_train_fs,X_test_fs,fea_sel=select_features(chi2,X_train_enc,y_train_enc,X_test_enc)\n",
    "\n",
    "#print the scores for each feature\n",
    "for i in range(len(fea_sel.scores_)):\n",
    "    print('Feature %s score: %f' %(i, fea_sel.scores_[i]))\n",
    "plt.bar([i for i in range(len(fea_sel.scores_))],fea_sel.scores_ )\n",
    "\n",
    "# Run Logistic Regression model on all features\n",
    "model=LogisticRegression(solver='liblinear')\n",
    "model.fit(X_train_enc,y_train_enc)\n",
    "y_pred=model.predict(X_test_enc)\n",
    "accuracy_all=accuracy_score(y_test_enc,y_pred)\n",
    "print('Accuracy = %f' %(accuracy_all))\n",
    "\n",
    "# Run Logistic Regression model on selected features\n",
    "model=LogisticRegression(solver='liblinear')\n",
    "model.fit(X_train_fs,y_train_enc)\n",
    "y_pred=model.predict(X_test_fs)\n",
    "accuracy_all=accuracy_score(y_test_enc,y_pred)\n",
    "print('Accuracy = %f' %(accuracy_all))"
   ]
  },
  {
   "cell_type": "code",
   "execution_count": 122,
   "metadata": {
    "collapsed": true
   },
   "outputs": [],
   "source": [
    "\n",
    "names=['buying','maint','doors','persons','lug_boot','safety','class']\n"
   ]
  },
  {
   "cell_type": "code",
   "execution_count": 88,
   "metadata": {
    "collapsed": false
   },
   "outputs": [],
   "source": []
  },
  {
   "cell_type": "code",
   "execution_count": 89,
   "metadata": {
    "collapsed": false
   },
   "outputs": [],
   "source": [
    "# Separate into input and output variables\n",
    "X=dataValues[:,:-1]\n",
    "y=dataValues[:,-1]"
   ]
  },
  {
   "cell_type": "code",
   "execution_count": 90,
   "metadata": {
    "collapsed": false
   },
   "outputs": [
    {
     "data": {
      "text/plain": [
       "class\n",
       "acc       384\n",
       "good       69\n",
       "unacc    1210\n",
       "vgood      65\n",
       "dtype: int64"
      ]
     },
     "execution_count": 90,
     "metadata": {},
     "output_type": "execute_result"
    }
   ],
   "source": [
    "data.groupby('class').size()"
   ]
  },
  {
   "cell_type": "code",
   "execution_count": 91,
   "metadata": {
    "collapsed": true
   },
   "outputs": [],
   "source": [
    "X=X.astype(str)"
   ]
  },
  {
   "cell_type": "code",
   "execution_count": 92,
   "metadata": {
    "collapsed": true
   },
   "outputs": [],
   "source": []
  },
  {
   "cell_type": "code",
   "execution_count": 93,
   "metadata": {
    "collapsed": false
   },
   "outputs": [],
   "source": []
  },
  {
   "cell_type": "code",
   "execution_count": 94,
   "metadata": {
    "collapsed": false
   },
   "outputs": [],
   "source": [
    "\n"
   ]
  },
  {
   "cell_type": "code",
   "execution_count": 95,
   "metadata": {
    "collapsed": true
   },
   "outputs": [],
   "source": []
  },
  {
   "cell_type": "code",
   "execution_count": 96,
   "metadata": {
    "collapsed": false
   },
   "outputs": [],
   "source": []
  },
  {
   "cell_type": "code",
   "execution_count": 97,
   "metadata": {
    "collapsed": false
   },
   "outputs": [
    {
     "name": "stdout",
     "output_type": "stream",
     "text": [
      "Feature 0 score:3.7554549202979874\n",
      "Feature 1 score:6.32055225985126\n",
      "Feature 2 score:6.7788914094258\n",
      "Feature 3 score:129.5892406866818\n",
      "Feature 4 score:27.15218374065215\n",
      "Feature 5 score:54.26846400467999\n"
     ]
    }
   ],
   "source": []
  },
  {
   "cell_type": "code",
   "execution_count": 98,
   "metadata": {
    "collapsed": false
   },
   "outputs": [
    {
     "data": {
      "text/plain": [
       "<BarContainer object of 6 artists>"
      ]
     },
     "execution_count": 98,
     "metadata": {},
     "output_type": "execute_result"
    },
    {
     "data": {
      "image/png": "[encoded data removed]",
      "text/plain": [
       "<Figure size 432x288 with 1 Axes>"
      ]
     },
     "metadata": {},
     "output_type": "display_data"
    }
   ],
   "source": []
  },
  {
   "cell_type": "code",
   "execution_count": 99,
   "metadata": {
    "collapsed": false
   },
   "outputs": [
    {
     "name": "stdout",
     "output_type": "stream",
     "text": [
      "Accuracy: 0.678227\n"
     ]
    },
    {
     "name": "stderr",
     "output_type": "stream",
     "text": [
      "C:\\Users\\Mohua\\Anaconda3\\lib\\site-packages\\sklearn\\linear_model\\logistic.py:469: FutureWarning: Default multi_class will be changed to 'auto' in 0.22. Specify the multi_class option to silence this warning.\n",
      "  \"this warning.\", FutureWarning)\n"
     ]
    }
   ],
   "source": []
  },
  {
   "cell_type": "code",
   "execution_count": null,
   "metadata": {
    "collapsed": true
   },
   "outputs": [],
   "source": []
  },
  {
   "cell_type": "code",
   "execution_count": null,
   "metadata": {
    "collapsed": true
   },
   "outputs": [],
   "source": []
  }
 ],
 "metadata": {
  "kernelspec": {
   "display_name": "Python 3",
   "language": "python",
   "name": "python3"
  },
  "language_info": {
   "codemirror_mode": {
    "name": "ipython",
    "version": 3
   },
   "file_extension": ".py",
   "mimetype": "text/x-python",
   "name": "python",
   "nbconvert_exporter": "python",
   "pygments_lexer": "ipython3",
   "version": "3.6.0"
  }
 },
 "nbformat": 4,
 "nbformat_minor": 2
}
