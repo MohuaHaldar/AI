{
 "cells": [
  {
   "cell_type": "markdown",
   "metadata": {},
   "source": [
    "# Vader Sentiment Analysis"
   ]
  },
  {
   "cell_type": "raw",
   "metadata": {},
   "source": [
    "Vader is a rule based sentiment analysis tool that has been found to work well with social media sentiments"
   ]
  },
  {
   "cell_type": "code",
   "execution_count": null,
   "metadata": {},
   "outputs": [],
   "source": [
    "# Install vader package\n",
    "!pip install vaderSentiment"
   ]
  },
  {
   "cell_type": "markdown",
   "metadata": {},
   "source": [
    "Import the library"
   ]
  },
  {
   "cell_type": "code",
   "execution_count": 4,
   "metadata": {},
   "outputs": [],
   "source": [
    "from vaderSentiment.vaderSentiment import SentimentIntensityAnalyzer\n",
    "analyser=SentimentIntensityAnalyzer()"
   ]
  },
  {
   "cell_type": "raw",
   "metadata": {},
   "source": [
    "Obtain the polarity indices of the sentence using the polarity scores "
   ]
  },
  {
   "cell_type": "code",
   "execution_count": 9,
   "metadata": {},
   "outputs": [],
   "source": [
    "def sentiment_polarity(text):\n",
    "    score=analyser.polarity_scores(text)\n",
    "    print('%s %s' % (text, str(score)))"
   ]
  },
  {
   "cell_type": "code",
   "execution_count": 10,
   "metadata": {},
   "outputs": [
    {
     "name": "stdout",
     "output_type": "stream",
     "text": [
      "this life really sucks when you can't achieve your dreams {'neg': 0.387, 'neu': 0.613, 'pos': 0.0, 'compound': -0.6188}\n"
     ]
    }
   ],
   "source": [
    "sentiment_polarity(\"this life really sucks when you can't achieve your dreams\")"
   ]
  },
  {
   "cell_type": "raw",
   "metadata": {},
   "source": [
    "Our sentence is 38.7% negative, 0% neutral, and 0% positive"
   ]
  },
  {
   "cell_type": "raw",
   "metadata": {},
   "source": [
    "Lets check the behavior on different types of sentences"
   ]
  },
  {
   "cell_type": "code",
   "execution_count": 11,
   "metadata": {},
   "outputs": [
    {
     "name": "stdout",
     "output_type": "stream",
     "text": [
      "I love you so much {'neg': 0.0, 'neu': 0.417, 'pos': 0.583, 'compound': 0.6369}\n"
     ]
    }
   ],
   "source": [
    "sentiment_polarity(\"you love me so much\")"
   ]
  },
  {
   "cell_type": "code",
   "execution_count": 18,
   "metadata": {},
   "outputs": [
    {
     "name": "stdout",
     "output_type": "stream",
     "text": [
      "you love me so much!!!!!!! {'neg': 0.0, 'neu': 0.427, 'pos': 0.573, 'compound': 0.7482}\n"
     ]
    }
   ],
   "source": [
    "sentiment_polarity(\"you love me so much!!!!!!!\") # Exclaimation increases the sentiment intensitysentiment_polarity"
   ]
  },
  {
   "cell_type": "code",
   "execution_count": 19,
   "metadata": {},
   "outputs": [
    {
     "name": "stdout",
     "output_type": "stream",
     "text": [
      "I love him {'neg': 0.0, 'neu': 0.192, 'pos': 0.808, 'compound': 0.6369}\n"
     ]
    }
   ],
   "source": [
    "sentiment_polarity(\"I love him\")"
   ]
  },
  {
   "cell_type": "code",
   "execution_count": 20,
   "metadata": {},
   "outputs": [
    {
     "name": "stdout",
     "output_type": "stream",
     "text": [
      "I LOVE him {'neg': 0.0, 'neu': 0.169, 'pos': 0.831, 'compound': 0.7125}\n"
     ]
    }
   ],
   "source": [
    "sentiment_polarity(\"I LOVE him\") # Capitalization increases the sentiment intensity"
   ]
  },
  {
   "cell_type": "code",
   "execution_count": 21,
   "metadata": {},
   "outputs": [
    {
     "name": "stdout",
     "output_type": "stream",
     "text": [
      "This is a nice place {'neg': 0.0, 'neu': 0.517, 'pos': 0.483, 'compound': 0.4215}\n"
     ]
    }
   ],
   "source": [
    "sentiment_polarity(\"This is a nice place\")"
   ]
  },
  {
   "cell_type": "code",
   "execution_count": 22,
   "metadata": {},
   "outputs": [
    {
     "name": "stdout",
     "output_type": "stream",
     "text": [
      "This is a really nice place {'neg': 0.0, 'neu': 0.564, 'pos': 0.436, 'compound': 0.4754}\n"
     ]
    }
   ],
   "source": [
    "sentiment_polarity(\"This is a really nice place\") # Modifier increases the sentiment intensity"
   ]
  },
  {
   "cell_type": "code",
   "execution_count": 24,
   "metadata": {},
   "outputs": [
    {
     "name": "stdout",
     "output_type": "stream",
     "text": [
      "I like him {'neg': 0.0, 'neu': 0.286, 'pos': 0.714, 'compound': 0.3612}\n"
     ]
    }
   ],
   "source": [
    "sentiment_polarity(\"I like him\")"
   ]
  },
  {
   "cell_type": "code",
   "execution_count": 25,
   "metadata": {},
   "outputs": [
    {
     "name": "stdout",
     "output_type": "stream",
     "text": [
      "I like him, but he is very cunning {'neg': 0.0, 'neu': 0.774, 'pos': 0.226, 'compound': 0.1901}\n"
     ]
    }
   ],
   "source": [
    "sentiment_polarity(\"I like him, but he is very cunning\") # Conjunctions shift the focus on the latter part of the sentence"
   ]
  },
  {
   "cell_type": "code",
   "execution_count": null,
   "metadata": {},
   "outputs": [],
   "source": []
  }
 ],
 "metadata": {
  "kernelspec": {
   "display_name": "Python 3",
   "language": "python",
   "name": "python3"
  },
  "language_info": {
   "codemirror_mode": {
    "name": "ipython",
    "version": 3
   },
   "file_extension": ".py",
   "mimetype": "text/x-python",
   "name": "python",
   "nbconvert_exporter": "python",
   "pygments_lexer": "ipython3",
   "version": "3.7.4"
  }
 },
 "nbformat": 4,
 "nbformat_minor": 2
}
