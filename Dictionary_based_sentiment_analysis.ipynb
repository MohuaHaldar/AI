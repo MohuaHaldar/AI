{
 "cells": [
  {
   "cell_type": "code",
   "execution_count": 36,
   "metadata": {},
   "outputs": [],
   "source": [
    "# Method to extract the word files\n",
    "\n",
    "def createWordList(fileName):\n",
    "    \n",
    "    with open(fileName,'r') as f:\n",
    "        text=f.read()\n",
    "    words=text.split('\\n')\n",
    "    words[-2:]=[]\n",
    "    return words"
   ]
  },
  {
   "cell_type": "code",
   "execution_count": 37,
   "metadata": {},
   "outputs": [],
   "source": [
    "posWords=createWordList('pos.txt')"
   ]
  },
  {
   "cell_type": "code",
   "execution_count": 39,
   "metadata": {},
   "outputs": [],
   "source": [
    "negWords=createWordList('neg.txt')"
   ]
  },
  {
   "cell_type": "code",
   "execution_count": 71,
   "metadata": {},
   "outputs": [],
   "source": [
    "import tweepy\n",
    "import csv"
   ]
  },
  {
   "cell_type": "code",
   "execution_count": 97,
   "metadata": {},
   "outputs": [],
   "source": [
    "# Declare the keys\n",
    "con_key='' #the empty string should be replace with consumer key\n",
    "con_secret='' #the empty string should be replaced with consumer secret\n",
    "acc_key='' #to be replaced with account key\n",
    "acc_secret='' #to be replaced with account secret\n",
    "\n",
    "def extract_tweets(accName):\n",
    "    auth=tweepy.OAuthHandler(con_key,con_secret)\n",
    "    auth.set_access_token(acc_key,acc_secret)\n",
    "    \n",
    "    # Extract tweets\n",
    "    tweets=tweepy.API(auth).user_timeline(screen_name=accName)\n",
    "    raw_tweets=[[tweet.text.encode(\"utf-8\")] for tweet in tweets]\n",
    "    #print(raw_tweets)\n",
    "    with open('Tweet_text.txt', 'w+') as fw:\n",
    "        writer=csv.writer(fw)\n",
    "        #writer.writerow(['id','date','text'])\n",
    "        writer.writerows(raw_tweets)\n",
    "    return raw_tweets\n"
   ]
  },
  {
   "cell_type": "code",
   "execution_count": 98,
   "metadata": {},
   "outputs": [],
   "source": [
    "raw_tweets=extract_tweets('@<twitterhandle>') # replace with the twitter handle"
   ]
  },
  {
   "cell_type": "code",
   "execution_count": 146,
   "metadata": {},
   "outputs": [],
   "source": [
    "# Read the tweets from the file\n",
    "with open('tweet_text.txt', 'r') as f2:\n",
    "    tweet_texts=f2.read()\n",
    "    tweet_texts=tweet_texts.split('\\n')\n",
    "    "
   ]
  },
  {
   "cell_type": "code",
   "execution_count": 147,
   "metadata": {},
   "outputs": [],
   "source": [
    "# tokenize the tweets\n",
    "import re\n",
    "def tokenize_tweets(theTweet):\n",
    "    allTokens=re.findall(r'\\b\\w[\\w-]*\\b', theTweet.lower())\n",
    "    #print(allTokens)\n",
    "    return allTokens\n",
    "\n",
    "tweet_pos_words=[]\n",
    "tweet_neg_words=[]\n",
    "def calculate_words(tweet):\n",
    "      \n",
    "    tokensInTweet=tokenize_tweets(tweet)\n",
    "    for token in tokensInTweet:\n",
    "        if token in posWords:\n",
    "            tweet_pos_words.append(token)            \n",
    "        elif token in negWords:\n",
    "            tweet_neg_words.append(token)\n",
    "        #else:\n",
    "            #print('%s word not in dictionary' % token)    \n",
    "    return (len(tweet_pos_words)-len(tweet_neg_words))\n",
    "\n",
    "def analyze_tweets(tweets):\n",
    "    overAllPos=1\n",
    "    overAllNeg=0\n",
    "    countOfPosTweet=0\n",
    "    countOfNegTweet=0\n",
    "    for eachTweet in tweets:\n",
    "        res=calculate_words(eachTweet)\n",
    "        #print('Tweet result = %s' % res)\n",
    "        if res>overAllPos:\n",
    "            countOfPosTweet+=1\n",
    "        elif res< overAllNeg:\n",
    "            countOfNegTweet+=1\n",
    "    print('How many tweet are positive : %s' % countOfPosTweet)\n",
    "    print('How many tweet are negative : %s' % countOfNegTweet)\n",
    "            \n",
    "        \n",
    "        \n",
    "            \n",
    "            \n",
    "    \n",
    "    \n",
    "    "
   ]
  },
  {
   "cell_type": "code",
   "execution_count": 148,
   "metadata": {},
   "outputs": [
    {
     "name": "stdout",
     "output_type": "stream",
     "text": [
      "How many tweet are positive : 13\n",
      "How many tweet are negative : 0\n"
     ]
    }
   ],
   "source": [
    "analyze_tweets(tweet_texts)"
   ]
  },
  {
   "cell_type": "code",
   "execution_count": 153,
   "metadata": {},
   "outputs": [
    {
     "name": "stdout",
     "output_type": "stream",
     "text": [
      "     up  honest learned   sunny    good \n",
      "      3       1       1       1       1 \n"
     ]
    }
   ],
   "source": [
    "# plot the frequest positive words\n",
    "import nltk, matplotlib\n",
    "%matplotlib inline\n",
    "freqPosWords=nltk.FreqDist(tweet_pos_words)\n",
    "freqPosWords.tabulate()"
   ]
  },
  {
   "cell_type": "code",
   "execution_count": 154,
   "metadata": {},
   "outputs": [
    {
     "name": "stdout",
     "output_type": "stream",
     "text": [
      "    no wicked    not \n",
      "     1      1      1 \n"
     ]
    }
   ],
   "source": [
    "# plot the frequest positive words\n",
    "freqNegWords=nltk.FreqDist(tweet_neg_words)\n",
    "freqNegWords.tabulate()"
   ]
  },
  {
   "cell_type": "code",
   "execution_count": 155,
   "metadata": {},
   "outputs": [
    {
     "data": {
      "image/png": "[encoded data removed]",
      "text/plain": [
       "<Figure size 432x288 with 1 Axes>"
      ]
     },
     "metadata": {
      "needs_background": "light"
     },
     "output_type": "display_data"
    },
    {
     "data": {
      "text/plain": [
       "<matplotlib.axes._subplots.AxesSubplot at 0x23b33c6a5c8>"
      ]
     },
     "execution_count": 155,
     "metadata": {},
     "output_type": "execute_result"
    }
   ],
   "source": [
    "# Plot the most frequest positive words\n",
    "freqPosWords.plot(title='Top positive words')"
   ]
  },
  {
   "cell_type": "code",
   "execution_count": 156,
   "metadata": {},
   "outputs": [
    {
     "data": {
      "image/png": "[encoded data removed]",
      "text/plain": [
       "<Figure size 432x288 with 1 Axes>"
      ]
     },
     "metadata": {
      "needs_background": "light"
     },
     "output_type": "display_data"
    },
    {
     "data": {
      "text/plain": [
       "<matplotlib.axes._subplots.AxesSubplot at 0x23b33cc9f88>"
      ]
     },
     "execution_count": 156,
     "metadata": {},
     "output_type": "execute_result"
    }
   ],
   "source": [
    "# Plot the most frequest negative words\n",
    "freqNegWords.plot(title='Top negative words')"
   ]
  },
  {
   "cell_type": "code",
   "execution_count": null,
   "metadata": {},
   "outputs": [],
   "source": []
  }
 ],
 "metadata": {
  "kernelspec": {
   "display_name": "Python 3",
   "language": "python",
   "name": "python3"
  },
  "language_info": {
   "codemirror_mode": {
    "name": "ipython",
    "version": 3
   },
   "file_extension": ".py",
   "mimetype": "text/x-python",
   "name": "python",
   "nbconvert_exporter": "python",
   "pygments_lexer": "ipython3",
   "version": "3.7.4"
  }
 },
 "nbformat": 4,
 "nbformat_minor": 2
}
