{
 "cells": [
  {
   "cell_type": "markdown",
   "metadata": {},
   "source": [
    "# Write a python script to implement perceptron training rule and get the appropriate parameters for a single perceptro"
   ]
  },
  {
   "cell_type": "code",
   "execution_count": 251,
   "metadata": {},
   "outputs": [],
   "source": [
    "import numpy as np"
   ]
  },
  {
   "cell_type": "code",
   "execution_count": 252,
   "metadata": {},
   "outputs": [],
   "source": [
    "# Predict weights\n",
    "def predict(x, w, b):\n",
    "    activation=0\n",
    "    for i in range (len(x)):\n",
    "        activation+=w[i]*x[i]\n",
    "    activation+=b\n",
    "    return 1.0 if activation>=0.0 else 0.0\n",
    "    "
   ]
  },
  {
   "cell_type": "code",
   "execution_count": 253,
   "metadata": {},
   "outputs": [],
   "source": [
    "# Train the perceptron\n",
    "def fit(X,Y, eta, epochs):\n",
    "    w=np.random.uniform(0,1, (len(X[0]),1))\n",
    "    b=np.zeros((1,))\n",
    "    for epoch in range(epochs):\n",
    "        Serror=0.0\n",
    "        for i in range(X.shape[0]):\n",
    "            yhat=predict(X[i],w,b)            \n",
    "            error=Y[i]-yhat\n",
    "            Serror+=error**2\n",
    "            b=b+eta*error\n",
    "            for j in range(len(X[i])):                \n",
    "                w[j]=w[j]+eta* error*X[i][j]\n",
    "        print('>epoch=%d, lrate=%.3f, error=%.3f' % (epoch, eta, Serror))\n",
    "    return w,b\n",
    "            \n",
    "    "
   ]
  },
  {
   "cell_type": "code",
   "execution_count": 258,
   "metadata": {},
   "outputs": [],
   "source": [
    "# The dataset\n",
    "from sklearn.preprocessing import MinMaxScaler\n",
    "scaler=MinMaxScaler()\n",
    "X=np.array([[2,3],[4,5],[11,11],[4,11],[12,5],[5,2],[6,1],[6,3],[2,10],[4,7],[13,8],[1,6],[6,9]\n",
    "   ,[10,12],[8,3],  [2,8]])\n",
    "X=scaler.fit_transform(X)\n",
    "Y=np.array([0,0,1,1,0,0,0,0,1,1,0,1,1,1,0,1])"
   ]
  },
  {
   "cell_type": "code",
   "execution_count": 259,
   "metadata": {},
   "outputs": [
    {
     "name": "stdout",
     "output_type": "stream",
     "text": [
      ">epoch=0, lrate=0.100, error=4.000\n",
      ">epoch=1, lrate=0.100, error=0.000\n",
      ">epoch=2, lrate=0.100, error=0.000\n",
      ">epoch=3, lrate=0.100, error=0.000\n",
      ">epoch=4, lrate=0.100, error=0.000\n"
     ]
    }
   ],
   "source": [
    "W,b=fit(X,Y, .1,5)"
   ]
  },
  {
   "cell_type": "code",
   "execution_count": 260,
   "metadata": {},
   "outputs": [
    {
     "name": "stdout",
     "output_type": "stream",
     "text": [
      "[-0.2]\n"
     ]
    }
   ],
   "source": [
    "print(b)"
   ]
  },
  {
   "cell_type": "code",
   "execution_count": 261,
   "metadata": {},
   "outputs": [
    {
     "name": "stdout",
     "output_type": "stream",
     "text": [
      "[[-0.1168256 ]\n",
      " [ 0.47275287]]\n"
     ]
    }
   ],
   "source": [
    "print(W)"
   ]
  },
  {
   "cell_type": "markdown",
   "metadata": {},
   "source": [
    "# Write a python script to plot the data points and the obtained decision boundary\n"
   ]
  },
  {
   "cell_type": "code",
   "execution_count": 262,
   "metadata": {},
   "outputs": [],
   "source": [
    "import matplotlib.pyplot as plt\n",
    "\n",
    "def decision_boundary(X,Y,W,b):\n",
    "    plt.figure(figsize=(10,6))\n",
    "    plt.grid(True)\n",
    "    for x, y in zip(X, Y):\n",
    "        plt.plot(x[0],x[1], 'go' if(y==1) else 'mo')\n",
    "    # calculatae slope and intercept for two data points\n",
    "    for i in np.linspace(np.amin(X[:,:1]), np.amax(X[:,:1])):\n",
    "        m=-(b/W[1])/(b/W[0])\n",
    "        c=-b/W[1]\n",
    "        y=(m*i)+c\n",
    "        plt.plot(i, y, 'bo')"
   ]
  },
  {
   "cell_type": "code",
   "execution_count": 263,
   "metadata": {},
   "outputs": [
    {
     "data": {
      "image/png": "[encoded data removed]",
      "text/plain": [
       "<Figure size 720x432 with 1 Axes>"
      ]
     },
     "metadata": {
      "needs_background": "light"
     },
     "output_type": "display_data"
    }
   ],
   "source": [
    "decision_boundary(X,Y,W,b)"
   ]
  },
  {
   "cell_type": "markdown",
   "metadata": {},
   "source": [
    "#  Show how the decision boundary changed with each iteration\n"
   ]
  },
  {
   "cell_type": "code",
   "execution_count": 264,
   "metadata": {},
   "outputs": [],
   "source": [
    "# Train the perceptron\n",
    "def checkBoundaryPerIteration(X,Y, eta, epochs):\n",
    "    w=np.random.uniform(0,1, (len(X[0]),1))\n",
    "    b=np.zeros((1,))\n",
    "    for epoch in range(epochs):\n",
    "        Serror=0.0\n",
    "        for i in range(X.shape[0]):\n",
    "            yhat=predict(X[i],w,b)            \n",
    "            error=Y[i]-yhat\n",
    "            Serror+=error**2\n",
    "            b=b+eta*error\n",
    "            for j in range(len(X[i])):                \n",
    "                w[j]=w[j]+eta* error*X[i][j]\n",
    "        print('>epoch=%d, lrate=%.3f, error=%.3f' % (epoch, eta, Serror))    \n",
    "        decision_boundary(X,Y,w,b)\n",
    "            \n",
    "    "
   ]
  },
  {
   "cell_type": "code",
   "execution_count": 267,
   "metadata": {},
   "outputs": [
    {
     "name": "stdout",
     "output_type": "stream",
     "text": [
      ">epoch=0, lrate=0.100, error=9.000\n",
      ">epoch=1, lrate=0.100, error=5.000\n",
      ">epoch=2, lrate=0.100, error=5.000\n",
      ">epoch=3, lrate=0.100, error=3.000\n",
      ">epoch=4, lrate=0.100, error=4.000\n",
      ">epoch=5, lrate=0.100, error=2.000\n",
      ">epoch=6, lrate=0.100, error=0.000\n",
      ">epoch=7, lrate=0.100, error=0.000\n"
     ]
    },
    {
     "data": {
      "image/png": "[encoded data removed]",
      "text/plain": [
       "<Figure size 720x432 with 1 Axes>"
      ]
     },
     "metadata": {
      "needs_background": "light"
     },
     "output_type": "display_data"
    },
    {
     "data": {
      "image/png": "[encoded data removed]",
      "text/plain": [
       "<Figure size 720x432 with 1 Axes>"
      ]
     },
     "metadata": {
      "needs_background": "light"
     },
     "output_type": "display_data"
    },
    {
     "data": {
      "image/png": "[encoded data removed]",
      "text/plain": [
       "<Figure size 720x432 with 1 Axes>"
      ]
     },
     "metadata": {
      "needs_background": "light"
     },
     "output_type": "display_data"
    },
    {
     "data": {
      "image/png": "[encoded data removed]",
      "text/plain": [
       "<Figure size 720x432 with 1 Axes>"
      ]
     },
     "metadata": {
      "needs_background": "light"
     },
     "output_type": "display_data"
    },
    {
     "data": {
      "image/png": "[encoded data removed]",
      "text/plain": [
       "<Figure size 720x432 with 1 Axes>"
      ]
     },
     "metadata": {
      "needs_background": "light"
     },
     "output_type": "display_data"
    },
    {
     "data": {
      "image/png": "[encoded data removed]",
      "text/plain": [
       "<Figure size 720x432 with 1 Axes>"
      ]
     },
     "metadata": {
      "needs_background": "light"
     },
     "output_type": "display_data"
    },
    {
     "data": {
      "image/png": "[encoded data removed]",
      "text/plain": [
       "<Figure size 720x432 with 1 Axes>"
      ]
     },
     "metadata": {
      "needs_background": "light"
     },
     "output_type": "display_data"
    },
    {
     "data": {
      "image/png": "[encoded data removed]",
      "text/plain": [
       "<Figure size 720x432 with 1 Axes>"
      ]
     },
     "metadata": {
      "needs_background": "light"
     },
     "output_type": "display_data"
    }
   ],
   "source": [
    "checkBoundaryPerIteration(X, Y, .1, 8)"
   ]
  },
  {
   "cell_type": "markdown",
   "metadata": {},
   "source": [
    "# Use keras to design the NN model and train on the data given below\n"
   ]
  },
  {
   "cell_type": "code",
   "execution_count": 10,
   "metadata": {},
   "outputs": [],
   "source": [
    "import numpy as np\n",
    "from keras.models import Sequential\n",
    "from keras.layers import Dense\n",
    "from keras.optimizers import SGD\n",
    "import matplotlib.pyplot as plt"
   ]
  },
  {
   "cell_type": "code",
   "execution_count": 11,
   "metadata": {},
   "outputs": [],
   "source": [
    "# Prepare the dataset\n",
    "from sklearn.preprocessing import MinMaxScaler\n",
    "X=np.array([[10,18],[7,18],[4,17],[3,16],[1,13],[1,10],[11,10],[16,16],[21,6],[26,10],[10,1],[13,7],[18,12],[22,18],[23,10],[8,9],[6,6],[9,8],[13,5],[22,6],[5,1],[19,5],[4,9],[6,9],[3,5],[3,2],[11,3],[19,10],[26,17],[21,4],[22,6],[20,7],[18,16],\n",
    "[8,3],[21,13],[8,15],[6,14],[9,4],[25,14],[7,4],[9,14],[22,14],[5,13],[8,2],[6,3],[7,3],[8,14],[22,15],[9,12],[7,12]])\n",
    "\n",
    "scaler=MinMaxScaler()\n",
    "X=scaler.fit_transform(X)\n",
    "\n",
    "Y_B=['Blue' for i in range(33)]\n",
    "Y_R=['Red' for i in range(17)]\n",
    "Y=Y_B+Y_R\n",
    "Y=np.array(Y)"
   ]
  },
  {
   "cell_type": "code",
   "execution_count": 12,
   "metadata": {},
   "outputs": [],
   "source": [
    "# Label categorical inputs\n",
    "from sklearn import preprocessing\n",
    "ohe=preprocessing.OneHotEncoder(categories='auto', handle_unknown='ignore')\n",
    "Y=ohe.fit_transform(Y.reshape(-1,1))"
   ]
  },
  {
   "cell_type": "code",
   "execution_count": 13,
   "metadata": {},
   "outputs": [],
   "source": [
    "# Define the model\n",
    "model=Sequential()\n",
    "model.add(Dense(9,input_dim=2, activation='relu'))\n",
    "model.add(Dense(3, activation='relu'))\n",
    "model.add(Dense(2, activation='softmax'))\n",
    "# Compile the model\n",
    "opt=SGD(lr=.01, momentum=.9)\n",
    "model.compile(loss='categorical_crossentropy', optimizer=opt, metrics=['accuracy'])\n"
   ]
  },
  {
   "cell_type": "markdown",
   "metadata": {},
   "source": [
    "# 2.Report training accuracy and show how error/loss reduces as the training proceeds for your training"
   ]
  },
  {
   "cell_type": "code",
   "execution_count": 14,
   "metadata": {},
   "outputs": [
    {
     "name": "stdout",
     "output_type": "stream",
     "text": [
      "Epoch 1/100\n",
      "50/50 [==============================] - 0s 4ms/step - loss: 0.6846 - accuracy: 0.5200\n",
      "Epoch 2/100\n",
      "50/50 [==============================] - 0s 239us/step - loss: 0.6746 - accuracy: 0.6400\n",
      "Epoch 3/100\n",
      "50/50 [==============================] - 0s 219us/step - loss: 0.6649 - accuracy: 0.6600\n",
      "Epoch 4/100\n",
      "50/50 [==============================] - 0s 219us/step - loss: 0.6613 - accuracy: 0.6600\n",
      "Epoch 5/100\n",
      "50/50 [==============================] - 0s 200us/step - loss: 0.6515 - accuracy: 0.6600\n",
      "Epoch 6/100\n",
      "50/50 [==============================] - 0s 219us/step - loss: 0.6547 - accuracy: 0.6600\n",
      "Epoch 7/100\n",
      "50/50 [==============================] - 0s 239us/step - loss: 0.6517 - accuracy: 0.6600\n",
      "Epoch 8/100\n",
      "50/50 [==============================] - 0s 219us/step - loss: 0.6517 - accuracy: 0.6600\n",
      "Epoch 9/100\n",
      "50/50 [==============================] - 0s 239us/step - loss: 0.6514 - accuracy: 0.6600\n",
      "Epoch 10/100\n",
      "50/50 [==============================] - 0s 259us/step - loss: 0.6498 - accuracy: 0.6600\n",
      "Epoch 11/100\n",
      "50/50 [==============================] - 0s 479us/step - loss: 0.6487 - accuracy: 0.6600\n",
      "Epoch 12/100\n",
      "50/50 [==============================] - 0s 319us/step - loss: 0.6488 - accuracy: 0.6600\n",
      "Epoch 13/100\n",
      "50/50 [==============================] - 0s 379us/step - loss: 0.6480 - accuracy: 0.6600\n",
      "Epoch 14/100\n",
      "50/50 [==============================] - 0s 479us/step - loss: 0.6475 - accuracy: 0.6600\n",
      "Epoch 15/100\n",
      "50/50 [==============================] - 0s 379us/step - loss: 0.6469 - accuracy: 0.6600\n",
      "Epoch 16/100\n",
      "50/50 [==============================] - 0s 419us/step - loss: 0.6472 - accuracy: 0.6600\n",
      "Epoch 17/100\n",
      "50/50 [==============================] - 0s 399us/step - loss: 0.6461 - accuracy: 0.6600\n",
      "Epoch 18/100\n",
      "50/50 [==============================] - 0s 479us/step - loss: 0.6463 - accuracy: 0.6600\n",
      "Epoch 19/100\n",
      "50/50 [==============================] - 0s 459us/step - loss: 0.6454 - accuracy: 0.6600\n",
      "Epoch 20/100\n",
      "50/50 [==============================] - 0s 279us/step - loss: 0.6477 - accuracy: 0.6600\n",
      "Epoch 21/100\n",
      "50/50 [==============================] - 0s 259us/step - loss: 0.6449 - accuracy: 0.6600\n",
      "Epoch 22/100\n",
      "50/50 [==============================] - 0s 459us/step - loss: 0.6459 - accuracy: 0.6600\n",
      "Epoch 23/100\n",
      "50/50 [==============================] - 0s 738us/step - loss: 0.6452 - accuracy: 0.6600\n",
      "Epoch 24/100\n",
      "50/50 [==============================] - 0s 359us/step - loss: 0.6442 - accuracy: 0.6600\n",
      "Epoch 25/100\n",
      "50/50 [==============================] - 0s 259us/step - loss: 0.6447 - accuracy: 0.6600\n",
      "Epoch 26/100\n",
      "50/50 [==============================] - 0s 319us/step - loss: 0.6439 - accuracy: 0.6600\n",
      "Epoch 27/100\n",
      "50/50 [==============================] - 0s 399us/step - loss: 0.6453 - accuracy: 0.6600\n",
      "Epoch 28/100\n",
      "50/50 [==============================] - 0s 538us/step - loss: 0.6441 - accuracy: 0.6600\n",
      "Epoch 29/100\n",
      "50/50 [==============================] - 0s 379us/step - loss: 0.6440 - accuracy: 0.6600\n",
      "Epoch 30/100\n",
      "50/50 [==============================] - 0s 299us/step - loss: 0.6434 - accuracy: 0.6600\n",
      "Epoch 31/100\n",
      "50/50 [==============================] - 0s 299us/step - loss: 0.6431 - accuracy: 0.6600\n",
      "Epoch 32/100\n",
      "50/50 [==============================] - 0s 279us/step - loss: 0.6424 - accuracy: 0.6600\n",
      "Epoch 33/100\n",
      "50/50 [==============================] - 0s 359us/step - loss: 0.6422 - accuracy: 0.6600\n",
      "Epoch 34/100\n",
      "50/50 [==============================] - ETA: 0s - loss: 0.6769 - accuracy: 0.60 - 0s 279us/step - loss: 0.6420 - accuracy: 0.6600\n",
      "Epoch 35/100\n",
      "50/50 [==============================] - 0s 239us/step - loss: 0.6431 - accuracy: 0.6600\n",
      "Epoch 36/100\n",
      "50/50 [==============================] - 0s 219us/step - loss: 0.6417 - accuracy: 0.6600\n",
      "Epoch 37/100\n",
      "50/50 [==============================] - 0s 239us/step - loss: 0.6420 - accuracy: 0.6600\n",
      "Epoch 38/100\n",
      "50/50 [==============================] - 0s 219us/step - loss: 0.6420 - accuracy: 0.6600\n",
      "Epoch 39/100\n",
      "50/50 [==============================] - 0s 279us/step - loss: 0.6412 - accuracy: 0.6600\n",
      "Epoch 40/100\n",
      "50/50 [==============================] - 0s 279us/step - loss: 0.6409 - accuracy: 0.6600\n",
      "Epoch 41/100\n",
      "50/50 [==============================] - 0s 219us/step - loss: 0.6411 - accuracy: 0.6600\n",
      "Epoch 42/100\n",
      "50/50 [==============================] - 0s 219us/step - loss: 0.6411 - accuracy: 0.6600\n",
      "Epoch 43/100\n",
      "50/50 [==============================] - 0s 219us/step - loss: 0.6405 - accuracy: 0.6600\n",
      "Epoch 44/100\n",
      "50/50 [==============================] - 0s 259us/step - loss: 0.6407 - accuracy: 0.6600\n",
      "Epoch 45/100\n",
      "50/50 [==============================] - 0s 199us/step - loss: 0.6408 - accuracy: 0.6600\n",
      "Epoch 46/100\n",
      "50/50 [==============================] - 0s 239us/step - loss: 0.6397 - accuracy: 0.6600\n",
      "Epoch 47/100\n",
      "50/50 [==============================] - 0s 399us/step - loss: 0.6402 - accuracy: 0.6600\n",
      "Epoch 48/100\n",
      "50/50 [==============================] - 0s 379us/step - loss: 0.6393 - accuracy: 0.6600\n",
      "Epoch 49/100\n",
      "50/50 [==============================] - 0s 399us/step - loss: 0.6393 - accuracy: 0.6600\n",
      "Epoch 50/100\n",
      "50/50 [==============================] - 0s 399us/step - loss: 0.6393 - accuracy: 0.6600\n",
      "Epoch 51/100\n",
      "50/50 [==============================] - 0s 399us/step - loss: 0.6397 - accuracy: 0.6600\n",
      "Epoch 52/100\n",
      "50/50 [==============================] - 0s 259us/step - loss: 0.6394 - accuracy: 0.6600\n",
      "Epoch 53/100\n",
      "50/50 [==============================] - 0s 439us/step - loss: 0.6386 - accuracy: 0.6600\n",
      "Epoch 54/100\n",
      "50/50 [==============================] - 0s 279us/step - loss: 0.6389 - accuracy: 0.6600\n",
      "Epoch 55/100\n",
      "50/50 [==============================] - 0s 379us/step - loss: 0.6402 - accuracy: 0.6600\n",
      "Epoch 56/100\n",
      "50/50 [==============================] - 0s 299us/step - loss: 0.6384 - accuracy: 0.6600\n",
      "Epoch 57/100\n",
      "50/50 [==============================] - 0s 219us/step - loss: 0.6393 - accuracy: 0.6600\n",
      "Epoch 58/100\n",
      "50/50 [==============================] - 0s 219us/step - loss: 0.6389 - accuracy: 0.6600\n",
      "Epoch 59/100\n",
      "50/50 [==============================] - 0s 279us/step - loss: 0.6379 - accuracy: 0.6600\n",
      "Epoch 60/100\n",
      "50/50 [==============================] - 0s 239us/step - loss: 0.6386 - accuracy: 0.6600\n",
      "Epoch 61/100\n",
      "50/50 [==============================] - 0s 399us/step - loss: 0.6380 - accuracy: 0.6600\n",
      "Epoch 62/100\n",
      "50/50 [==============================] - 0s 459us/step - loss: 0.6371 - accuracy: 0.6600\n",
      "Epoch 63/100\n",
      "50/50 [==============================] - 0s 259us/step - loss: 0.6377 - accuracy: 0.6600\n",
      "Epoch 64/100\n",
      "50/50 [==============================] - 0s 279us/step - loss: 0.6374 - accuracy: 0.6600\n",
      "Epoch 65/100\n",
      "50/50 [==============================] - 0s 299us/step - loss: 0.6368 - accuracy: 0.6600\n",
      "Epoch 66/100\n",
      "50/50 [==============================] - 0s 519us/step - loss: 0.6377 - accuracy: 0.6600\n",
      "Epoch 67/100\n",
      "50/50 [==============================] - 0s 299us/step - loss: 0.6367 - accuracy: 0.6600\n",
      "Epoch 68/100\n",
      "50/50 [==============================] - 0s 379us/step - loss: 0.6365 - accuracy: 0.6600\n",
      "Epoch 69/100\n",
      "50/50 [==============================] - 0s 259us/step - loss: 0.6368 - accuracy: 0.6600\n",
      "Epoch 70/100\n",
      "50/50 [==============================] - 0s 259us/step - loss: 0.6360 - accuracy: 0.6600\n",
      "Epoch 71/100\n",
      "50/50 [==============================] - 0s 239us/step - loss: 0.6361 - accuracy: 0.6600\n",
      "Epoch 72/100\n",
      "50/50 [==============================] - 0s 279us/step - loss: 0.6365 - accuracy: 0.6600\n",
      "Epoch 73/100\n",
      "50/50 [==============================] - 0s 319us/step - loss: 0.6362 - accuracy: 0.6600\n",
      "Epoch 74/100\n",
      "50/50 [==============================] - 0s 339us/step - loss: 0.6376 - accuracy: 0.6600\n",
      "Epoch 75/100\n",
      "50/50 [==============================] - 0s 219us/step - loss: 0.6354 - accuracy: 0.6600\n",
      "Epoch 76/100\n",
      "50/50 [==============================] - 0s 299us/step - loss: 0.6360 - accuracy: 0.6600\n",
      "Epoch 77/100\n",
      "50/50 [==============================] - 0s 279us/step - loss: 0.6361 - accuracy: 0.6600\n",
      "Epoch 78/100\n",
      "50/50 [==============================] - 0s 279us/step - loss: 0.6350 - accuracy: 0.6600\n",
      "Epoch 79/100\n",
      "50/50 [==============================] - 0s 239us/step - loss: 0.6348 - accuracy: 0.6600\n",
      "Epoch 80/100\n",
      "50/50 [==============================] - 0s 279us/step - loss: 0.6343 - accuracy: 0.6600\n",
      "Epoch 81/100\n"
     ]
    },
    {
     "name": "stdout",
     "output_type": "stream",
     "text": [
      "50/50 [==============================] - 0s 279us/step - loss: 0.6347 - accuracy: 0.6600\n",
      "Epoch 82/100\n",
      "50/50 [==============================] - 0s 259us/step - loss: 0.6341 - accuracy: 0.6600\n",
      "Epoch 83/100\n",
      "50/50 [==============================] - 0s 399us/step - loss: 0.6337 - accuracy: 0.6600\n",
      "Epoch 84/100\n",
      "50/50 [==============================] - 0s 259us/step - loss: 0.6337 - accuracy: 0.6600\n",
      "Epoch 85/100\n",
      "50/50 [==============================] - 0s 399us/step - loss: 0.6338 - accuracy: 0.6600\n",
      "Epoch 86/100\n",
      "50/50 [==============================] - 0s 558us/step - loss: 0.6332 - accuracy: 0.6600\n",
      "Epoch 87/100\n",
      "50/50 [==============================] - 0s 419us/step - loss: 0.6336 - accuracy: 0.6600\n",
      "Epoch 88/100\n",
      "50/50 [==============================] - 0s 359us/step - loss: 0.6334 - accuracy: 0.6600\n",
      "Epoch 89/100\n",
      "50/50 [==============================] - 0s 299us/step - loss: 0.6331 - accuracy: 0.6600\n",
      "Epoch 90/100\n",
      "50/50 [==============================] - 0s 339us/step - loss: 0.6324 - accuracy: 0.6600\n",
      "Epoch 91/100\n",
      "50/50 [==============================] - 0s 339us/step - loss: 0.6330 - accuracy: 0.6600\n",
      "Epoch 92/100\n",
      "50/50 [==============================] - 0s 299us/step - loss: 0.6328 - accuracy: 0.6600\n",
      "Epoch 93/100\n",
      "50/50 [==============================] - 0s 359us/step - loss: 0.6326 - accuracy: 0.6600\n",
      "Epoch 94/100\n",
      "50/50 [==============================] - 0s 339us/step - loss: 0.6339 - accuracy: 0.6600\n",
      "Epoch 95/100\n",
      "50/50 [==============================] - 0s 339us/step - loss: 0.6319 - accuracy: 0.6600\n",
      "Epoch 96/100\n",
      "50/50 [==============================] - 0s 299us/step - loss: 0.6334 - accuracy: 0.6600\n",
      "Epoch 97/100\n",
      "50/50 [==============================] - ETA: 0s - loss: 0.7145 - accuracy: 0.50 - 0s 299us/step - loss: 0.6341 - accuracy: 0.6600\n",
      "Epoch 98/100\n",
      "50/50 [==============================] - 0s 379us/step - loss: 0.6320 - accuracy: 0.6600\n",
      "Epoch 99/100\n",
      "50/50 [==============================] - 0s 379us/step - loss: 0.6334 - accuracy: 0.6600\n",
      "Epoch 100/100\n",
      "50/50 [==============================] - 0s 339us/step - loss: 0.6310 - accuracy: 0.6600\n"
     ]
    }
   ],
   "source": [
    "# Fit the keras model on the dataset\n",
    "history=model.fit(X,Y, epochs=100, batch_size=10)\n"
   ]
  },
  {
   "cell_type": "code",
   "execution_count": 15,
   "metadata": {},
   "outputs": [
    {
     "name": "stdout",
     "output_type": "stream",
     "text": [
      "50/50 [==============================] - 0s 2ms/step\n",
      "Training Accuracy = 66.00000262260437\n"
     ]
    }
   ],
   "source": [
    "# Evaluate the model\n",
    "loss, accuracy=model.evaluate(X,Y)\n",
    "print('Training Accuracy = %s' % (accuracy*100))"
   ]
  },
  {
   "cell_type": "code",
   "execution_count": 16,
   "metadata": {},
   "outputs": [
    {
     "data": {
      "text/plain": [
       "<matplotlib.legend.Legend at 0x200b5bbd908>"
      ]
     },
     "execution_count": 16,
     "metadata": {},
     "output_type": "execute_result"
    },
    {
     "data": {
      "image/png": "[encoded data removed]",
      "text/plain": [
       "<Figure size 432x288 with 1 Axes>"
      ]
     },
     "metadata": {
      "needs_background": "light"
     },
     "output_type": "display_data"
    }
   ],
   "source": [
    "# Plot loss during training\n",
    "plt.subplot(111)\n",
    "plt.title('Loss')\n",
    "plt.plot(history.history['loss'], label='train')\n",
    "plt.legend()"
   ]
  },
  {
   "cell_type": "markdown",
   "metadata": {},
   "source": [
    "# How many epochs are suﬃcient for the training"
   ]
  },
  {
   "cell_type": "raw",
   "metadata": {},
   "source": [
    "From above data it can be said that in 100 iterations the data was trained"
   ]
  },
  {
   "cell_type": "code",
   "execution_count": null,
   "metadata": {},
   "outputs": [],
   "source": []
  },
  {
   "cell_type": "markdown",
   "metadata": {},
   "source": [
    "# 3.After training, plot the data-points and the decision boundary of all the nine neurons of the ﬁrst layer"
   ]
  },
  {
   "cell_type": "code",
   "execution_count": null,
   "metadata": {},
   "outputs": [],
   "source": []
  },
  {
   "cell_type": "code",
   "execution_count": null,
   "metadata": {},
   "outputs": [],
   "source": []
  },
  {
   "cell_type": "markdown",
   "metadata": {},
   "source": [
    "# 4.What is the prediction of your model for the point (15,15) and (7,3).\n"
   ]
  },
  {
   "cell_type": "code",
   "execution_count": 459,
   "metadata": {},
   "outputs": [
    {
     "name": "stdout",
     "output_type": "stream",
     "text": [
      "[['Blue']\n",
      " ['Blue']]\n"
     ]
    }
   ],
   "source": [
    "X_test=[[15,15],[7,3]]\n",
    "X_test=scaler.fit_transform(X_test)\n",
    "predictions=model.predict(X_test)\n",
    "print(ohe.inverse_transform(predictions))"
   ]
  },
  {
   "cell_type": "code",
   "execution_count": null,
   "metadata": {},
   "outputs": [],
   "source": []
  },
  {
   "cell_type": "code",
   "execution_count": null,
   "metadata": {},
   "outputs": [],
   "source": []
  },
  {
   "cell_type": "code",
   "execution_count": null,
   "metadata": {},
   "outputs": [],
   "source": []
  }
 ],
 "metadata": {
  "kernelspec": {
   "display_name": "Python 3",
   "language": "python",
   "name": "python3"
  },
  "language_info": {
   "codemirror_mode": {
    "name": "ipython",
    "version": 3
   },
   "file_extension": ".py",
   "mimetype": "text/x-python",
   "name": "python",
   "nbconvert_exporter": "python",
   "pygments_lexer": "ipython3",
   "version": "3.7.6"
  }
 },
 "nbformat": 4,
 "nbformat_minor": 2
}
