{
 "cells": [
  {
   "cell_type": "code",
   "execution_count": 57,
   "metadata": {
    "collapsed": false
   },
   "outputs": [
    {
     "name": "stdout",
     "output_type": "stream",
     "text": [
      "Actual values\n",
      " refractive_index     152\n",
      "na                  1364\n",
      "mg                   449\n",
      "al                   110\n",
      "si                  7178\n",
      "k                      6\n",
      "ca                   875\n",
      "ba                     0\n",
      "fe                     0\n",
      "Name: 0, dtype: int64\n"
     ]
    }
   ],
   "source": [
    "import pandas as pd\n",
    "from sklearn.feature_selection import chi2\n",
    "\n",
    "X=pd.read_csv('discretized_glass_features.csv')\n",
    "y=pd.read_csv('glass_target.csv')\n",
    "X=X.iloc[:,1:]\n",
    "print('Actual values\\n',X.iloc[0,:])"
   ]
  },
  {
   "cell_type": "code",
   "execution_count": 58,
   "metadata": {
    "collapsed": false
   },
   "outputs": [],
   "source": [
    "# Convert dataset to categorical\n",
    "X=X+4\n",
    "X=X.astype(int)"
   ]
  },
  {
   "cell_type": "code",
   "execution_count": 59,
   "metadata": {
    "collapsed": false
   },
   "outputs": [
    {
     "name": "stdout",
     "output_type": "stream",
     "text": [
      "Converted values\n",
      " refractive_index     156\n",
      "na                  1368\n",
      "mg                   453\n",
      "al                   114\n",
      "si                  7182\n",
      "k                     10\n",
      "ca                   879\n",
      "ba                     4\n",
      "fe                     4\n",
      "Name: 0, dtype: int32\n"
     ]
    }
   ],
   "source": [
    "print('Converted values\\n', X.iloc[0,:])"
   ]
  },
  {
   "cell_type": "code",
   "execution_count": 60,
   "metadata": {
    "collapsed": false
   },
   "outputs": [
    {
     "name": "stdout",
     "output_type": "stream",
     "text": [
      "The value of chi-squared [9.16336094e-03 4.29842969e+02 9.95009966e+03 1.65389160e+03\n",
      " 1.10135344e+01 2.93533225e+03 3.20102808e+02 1.18447574e+04\n",
      " 1.27128501e+02]\n",
      "The features from most significant to least significant\n"
     ]
    },
    {
     "data": {
      "text/plain": [
       "[('refractive_index', 0.9999995738478256),\n",
       " ('si', 0.05111229509920403),\n",
       " ('fe', 9.678041997287637e-26),\n",
       " ('ca', 4.757460464226368e-67),\n",
       " ('na', 1.0929399414582504e-90),\n",
       " ('mg', 0.0),\n",
       " ('al', 0.0),\n",
       " ('k', 0.0),\n",
       " ('ba', 0.0)]"
      ]
     },
     "execution_count": 60,
     "metadata": {},
     "output_type": "execute_result"
    }
   ],
   "source": [
    "chi2_scores, p_values=chi2(X,y)\n",
    "chi_dict={}\n",
    "print('The value of chi-squared', chi2_scores)\n",
    "for i in range(X.shape[1]):\n",
    "    chi_dict[X.columns[i]]=p_values[i]\n",
    "print('The features from most significant to least significant')\n",
    "sorted(chi_dict.items(), key=lambda x: x[1], reverse=True)"
   ]
  },
  {
   "cell_type": "code",
   "execution_count": 61,
   "metadata": {
    "collapsed": false
   },
   "outputs": [
    {
     "name": "stdout",
     "output_type": "stream",
     "text": [
      "Actual values refractive_index     1.52101\n",
      "na                  13.64000\n",
      "mg                   4.49000\n",
      "al                   1.10000\n",
      "si                  71.78000\n",
      "k                    0.06000\n",
      "ca                   8.75000\n",
      "ba                   0.00000\n",
      "fe                   0.00000\n",
      "Name: 0, dtype: float64\n"
     ]
    }
   ],
   "source": [
    "# Information gain\n",
    "import pandas as pd\n",
    "from sklearn.feature_selection import mutual_info_classif\n",
    "X=pd.read_csv('glass_features.csv')\n",
    "y=pd.read_csv('glass_target.csv')\n",
    "print('Actual values', X.iloc[0,:])\n"
   ]
  },
  {
   "cell_type": "code",
   "execution_count": 62,
   "metadata": {
    "collapsed": false
   },
   "outputs": [
    {
     "name": "stdout",
     "output_type": "stream",
     "text": [
      "Converted values refractive_index     1.52101\n",
      "na                  13.64000\n",
      "mg                   4.49000\n",
      "al                   1.10000\n",
      "si                  71.78000\n",
      "k                    0.06000\n",
      "ca                   8.75000\n",
      "ba                   0.00000\n",
      "fe                   0.00000\n",
      "Name: 0, dtype: float64\n"
     ]
    }
   ],
   "source": [
    "#Convert to categorical values\n",
    "#X=X*100\n",
    "#X=X.astype(int)\n",
    "print('Converted values', X.iloc[0,:])"
   ]
  },
  {
   "cell_type": "code",
   "execution_count": 63,
   "metadata": {
    "collapsed": false
   },
   "outputs": [],
   "source": [
    "mutual_info_gain_values = mutual_info_classif(X,y,discrete_features=False,random_state=42)"
   ]
  },
  {
   "cell_type": "code",
   "execution_count": 64,
   "metadata": {
    "collapsed": false
   },
   "outputs": [
    {
     "name": "stdout",
     "output_type": "stream",
     "text": [
      "Information Gain Values [0.35278758 0.28429635 0.39867584 0.44186055 0.07233051 0.34552266\n",
      " 0.24542692 0.35728425 0.04707237]\n"
     ]
    }
   ],
   "source": [
    "print(\"Information Gain Values\",mutual_info_gain_values)"
   ]
  },
  {
   "cell_type": "code",
   "execution_count": 65,
   "metadata": {
    "collapsed": false
   },
   "outputs": [],
   "source": [
    "IG_dict={}\n",
    "for i in range(X.shape[1]):\n",
    "    IG_dict[X.columns[i]]=mutual_info_gain_values[i]"
   ]
  },
  {
   "cell_type": "code",
   "execution_count": null,
   "metadata": {
    "collapsed": false
   },
   "outputs": [],
   "source": []
  },
  {
   "cell_type": "code",
   "execution_count": 66,
   "metadata": {
    "collapsed": false
   },
   "outputs": [
    {
     "name": "stdout",
     "output_type": "stream",
     "text": [
      "The features from most significant to least significant\n"
     ]
    },
    {
     "data": {
      "text/plain": [
       "[('al', 0.44186054737940017),\n",
       " ('mg', 0.39867584063928385),\n",
       " ('ba', 0.3572842540753687),\n",
       " ('refractive_index', 0.3527875823448019),\n",
       " ('k', 0.34552265664399684),\n",
       " ('na', 0.2842963511996821),\n",
       " ('ca', 0.24542692446453795),\n",
       " ('si', 0.07233051429402249),\n",
       " ('fe', 0.047072373477561325)]"
      ]
     },
     "execution_count": 66,
     "metadata": {},
     "output_type": "execute_result"
    }
   ],
   "source": [
    "print('The features from most significant to least significant')\n",
    "sorted(IG_dict.items(), key=lambda x: x[1], reverse=True)"
   ]
  },
  {
   "cell_type": "code",
   "execution_count": 67,
   "metadata": {
    "collapsed": false
   },
   "outputs": [
    {
     "name": "stdout",
     "output_type": "stream",
     "text": [
      "Actual values \n",
      " refractive_index     1.52101\n",
      "na                  13.64000\n",
      "mg                   4.49000\n",
      "al                   1.10000\n",
      "si                  71.78000\n",
      "k                    0.06000\n",
      "ca                   8.75000\n",
      "ba                   0.00000\n",
      "fe                   0.00000\n",
      "Name: 0, dtype: float64\n",
      "Best 4 features:  (1, 2, 4, 6)\n",
      "('na', 'mg', 'si', 'ca')\n",
      "RMSE value 0.6101243330313098\n"
     ]
    }
   ],
   "source": [
    "from sklearn.neighbors import KNeighborsClassifier\n",
    "from mlxtend.feature_selection import SequentialFeatureSelector as SFS\n",
    "import pandas as pd\n",
    "\n",
    "import warnings\n",
    "warnings.filterwarnings('ignore')\n",
    "X=pd.read_csv('glass_features.csv')\n",
    "y=pd.read_csv('glass_target.csv')\n",
    "\n",
    "print(\"Actual values \\n\", X.iloc[0,:])\n",
    "# Create the sbs object and select 4 best features\n",
    "knn=KNeighborsClassifier(n_neighbors=4)\n",
    "sbs= SFS(knn, k_features=4, forward=False, scoring='accuracy')\n",
    "sbs.fit(X,y)\n",
    "print(\"Best 4 features: \", sbs.k_feature_idx_)\n",
    "print(sbs.k_feature_names_)\n",
    "print(\"RMSE value\", sbs.k_score_)"
   ]
  },
  {
   "cell_type": "code",
   "execution_count": null,
   "metadata": {
    "collapsed": false
   },
   "outputs": [],
   "source": []
  },
  {
   "cell_type": "code",
   "execution_count": null,
   "metadata": {
    "collapsed": true
   },
   "outputs": [],
   "source": []
  },
  {
   "cell_type": "code",
   "execution_count": null,
   "metadata": {
    "collapsed": false
   },
   "outputs": [],
   "source": []
  },
  {
   "cell_type": "code",
   "execution_count": null,
   "metadata": {
    "collapsed": true
   },
   "outputs": [],
   "source": []
  }
 ],
 "metadata": {
  "kernelspec": {
   "display_name": "Python 3",
   "language": "python",
   "name": "python3"
  },
  "language_info": {
   "codemirror_mode": {
    "name": "ipython",
    "version": 3
   },
   "file_extension": ".py",
   "mimetype": "text/x-python",
   "name": "python",
   "nbconvert_exporter": "python",
   "pygments_lexer": "ipython3",
   "version": "3.6.0"
  }
 },
 "nbformat": 4,
 "nbformat_minor": 2
}
